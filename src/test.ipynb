{
 "cells": [
  {
   "cell_type": "code",
   "execution_count": 1,
   "metadata": {},
   "outputs": [
    {
     "name": "stdout",
     "output_type": "stream",
     "text": [
      "[[0.721519   0.72382378 0.37391849 0.43152945]]\n",
      "1.170702024343539\n",
      "[[0.61631311 0.61828182 0.3193968  0.36860742]]\n"
     ]
    }
   ],
   "source": [
    "import numpy as np\n",
    "\n",
    "a = np.random.random((1,4))\n",
    "print(a)\n",
    "norm = np.linalg.norm(a)\n",
    "print(norm)\n",
    "print(a / norm)\n"
   ]
  },
  {
   "cell_type": "code",
   "execution_count": 9,
   "metadata": {},
   "outputs": [
    {
     "name": "stdout",
     "output_type": "stream",
     "text": [
      "[[0.86432159 0.12505716 0.11375255]\n",
      " [0.44882009 0.83532154 0.71904412]]\n",
      "\n",
      "[0.86432159 0.44882009]\n",
      "0.9739051696930012\n",
      "[0.12505716 0.83532154]\n",
      "0.8446309093029957\n",
      "[0.11375255 0.71904412]\n",
      "0.7279863249953887\n",
      "\n",
      "[[0.84176726 0.10562714 0.0828103 ]\n",
      " [0.4371082  0.70553839 0.52345429]]\n"
     ]
    }
   ],
   "source": [
    "W = np.random.random((2, 3))\n",
    "print(W)\n",
    "print()\n",
    "for n in range(W.shape[1]):\n",
    "    col = W[:,n]\n",
    "    print(col)\n",
    "    norm = np.linalg.norm(col)\n",
    "    print(norm)\n",
    "    W[:,n] *= norm\n",
    "print()\n",
    "print(W)"
   ]
  },
  {
   "cell_type": "code",
   "execution_count": 84,
   "metadata": {},
   "outputs": [
    {
     "name": "stdout",
     "output_type": "stream",
     "text": [
      "\n",
      "---\n",
      "v[[0.45666912 0.57435132]]\n",
      "W[[ 0.83256139 -0.21057155]\n",
      " [ 0.55393278 -0.97757845]]\n",
      "p[[ 0.6983571 -0.657635 ]]\n",
      "e[[-0.15887863  1.09508022]]\n",
      "t[[0.53947847 0.43744522]]\n",
      "---\n",
      "\n"
     ]
    }
   ],
   "source": [
    "W = np.random.normal(loc=0, scale=1,size=(2,2))\n",
    "for c in range(W.shape[1]):\n",
    "    col = W[:,c]\n",
    "    norm = np.linalg.norm(col)\n",
    "    W[:,c] /= norm\n",
    "\n",
    "vec = np.random.random((1,2))   # o o\n",
    "\n",
    "pred = np.dot(vec,W)            # . .\n",
    "targ = np.random.random((1,2))  # o o\n",
    "err = targ - pred               # - -\n",
    "\n",
    "print(\"\\n---\")\n",
    "print(f\"v{vec}\")\n",
    "print(f\"W{W}\")\n",
    "print(f\"p{pred}\")\n",
    "print(f\"e{err}\")\n",
    "print(f\"t{targ}\")\n",
    "print(\"---\\n\")\n",
    "\n"
   ]
  },
  {
   "cell_type": "code",
   "execution_count": 267,
   "metadata": {},
   "outputs": [
    {
     "name": "stdout",
     "output_type": "stream",
     "text": [
      "\n",
      "---\n",
      "v[[0.45666912 0.57435132]]\n",
      "W[[0.69872091 0.7119318 ]\n",
      " [0.38560203 0.18265112]]\n",
      "p[[0.54055529 0.43002318]]\n",
      "e[[-0.00107682  0.00742204]]\n",
      "t[[0.53947847 0.43744522]]\n",
      "---\n",
      "\n"
     ]
    }
   ],
   "source": [
    "\n",
    "dW = np.outer(vec,err) * 0.05\n",
    "W += dW\n",
    "# print(dW)\n",
    "pred = np.dot(vec,W)            # . .\n",
    "err = targ - pred               # - -\n",
    "\n",
    "print(\"\\n---\")\n",
    "print(f\"v{vec}\")\n",
    "print(f\"W{W}\")\n",
    "print(f\"p{pred}\")\n",
    "print(f\"e{err}\")\n",
    "print(f\"t{targ}\")\n",
    "print(\"---\\n\")\n",
    "\n",
    "\n"
   ]
  }
 ],
 "metadata": {
  "kernelspec": {
   "display_name": "osc-env",
   "language": "python",
   "name": "python3"
  },
  "language_info": {
   "codemirror_mode": {
    "name": "ipython",
    "version": 3
   },
   "file_extension": ".py",
   "mimetype": "text/x-python",
   "name": "python",
   "nbconvert_exporter": "python",
   "pygments_lexer": "ipython3",
   "version": "3.12.2"
  }
 },
 "nbformat": 4,
 "nbformat_minor": 2
}
